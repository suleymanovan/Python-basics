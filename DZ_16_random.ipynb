{
 "cells": [
  {
   "cell_type": "markdown",
   "metadata": {},
   "source": [
    "### Задание\n",
    "Смоделировать игру против лотерейного автомата типа “777”. Игрок платит 1 руб., после чего выпадает случайное целое число, равномерно распределенное от 0 до 999. При некоторых значениях числа игрок получает выигрыш (см. справа)\n",
    "\n",
    "Выгодна ли игра игроку?\n",
    "\n",
    "Сколько в среднем приобретает или теряет игрок за одну игру?\n",
    "\n",
    "* 777: 200 руб.\n",
    "* 999: 100 руб.\n",
    "* 555: 50 руб.\n",
    "* 333: 15 руб.\n",
    "* 111: 10 руб.\n",
    "* *77: 5 руб.\n",
    "* **7: 3 руб.\n",
    "* *00: 2 руб.\n",
    "* **0: 1 руб.\n",
    "\n",
    "### Дополнительное задание повышенной сложности. \n",
    "Теоретически рассчитать средний выигрыш (проигрыш) и сравнить с результатами моделирования"
   ]
  },
  {
   "cell_type": "code",
   "execution_count": 1,
   "metadata": {},
   "outputs": [],
   "source": [
    "import numpy as np\n",
    "import pandas as pd"
   ]
  },
  {
   "cell_type": "code",
   "execution_count": 15,
   "metadata": {},
   "outputs": [],
   "source": [
    "def game(trials):  # Количество попыток\n",
    "    successes = 0   # Количество успехов\n",
    "    cost = 0        # Расходы в рублях\n",
    "    bonus = 0       # Выигрыш в рублях\n",
    "\n",
    "    for i in range(trials):\n",
    "        random_score = np.random.randint(000, 999)    # Случайное число от 0 до 999\n",
    "        cost += 1\n",
    "        if random_score == 777:\n",
    "            successes += 1\n",
    "            bonus += 200\n",
    "        elif random_score == 999:\n",
    "            successes += 1\n",
    "            bonus += 100\n",
    "        elif random_score == 555:\n",
    "            successes += 1\n",
    "            bonus += 500   \n",
    "        elif random_score == 333:\n",
    "            successes += 1\n",
    "            bonus += 15\n",
    "        elif random_score == 111:\n",
    "            successes += 1\n",
    "            bonus += 10\n",
    "        elif random_score % 100 == 77:\n",
    "            successes += 1\n",
    "            bonus += 5\n",
    "        elif random_score % 10 == 7:\n",
    "            successes += 1\n",
    "            bonus += 3   \n",
    "        elif random_score % 100 == 0:\n",
    "            successes += 1\n",
    "            bonus += 2\n",
    "        elif random_score % 10 == 0:\n",
    "            successes += 1\n",
    "            bonus += 1\n",
    "        \n",
    "    p_monte_carlo = round((successes / trials * 100))   # Вероятность из моделирования\n",
    "    gain_mean =  round(((bonus - cost) / trials), 2)   # Средний выигрыш\n",
    "\n",
    "    print('В среднем игрок приобретает за одну игру:', gain_mean, 'рублей.')\n",
    "    print('Вероятность выигрыша:', p_monte_carlo, '%')\n",
    "    print('Количество успехов:', successes)\n",
    "    print('Расходы в рублях:', cost) \n",
    "    print('Выигрыш в рублях:', bonus)"
   ]
  },
  {
   "cell_type": "code",
   "execution_count": 26,
   "metadata": {},
   "outputs": [
    {
     "name": "stdout",
     "output_type": "stream",
     "text": [
      "В среднем игрок приобретает за одну игру: 4.28 рублей.\n",
      "Вероятность выигрыша: 15 %\n",
      "Количество успехов: 15\n",
      "Расходы в рублях: 100\n",
      "Выигрыш в рублях: 528\n"
     ]
    }
   ],
   "source": [
    "game(100)"
   ]
  },
  {
   "cell_type": "code",
   "execution_count": 27,
   "metadata": {},
   "outputs": [
    {
     "name": "stdout",
     "output_type": "stream",
     "text": [
      "В среднем игрок приобретает за одну игру: 0.8 рублей.\n",
      "Вероятность выигрыша: 19 %\n",
      "Количество успехов: 193\n",
      "Расходы в рублях: 1000\n",
      "Выигрыш в рублях: 1799\n"
     ]
    }
   ],
   "source": [
    "game(1000)"
   ]
  },
  {
   "cell_type": "code",
   "execution_count": 28,
   "metadata": {},
   "outputs": [
    {
     "name": "stdout",
     "output_type": "stream",
     "text": [
      "В среднем игрок приобретает за одну игру: 0.35 рублей.\n",
      "Вероятность выигрыша: 20 %\n",
      "Количество успехов: 2008\n",
      "Расходы в рублях: 10000\n",
      "Выигрыш в рублях: 13489\n"
     ]
    }
   ],
   "source": [
    "game(10000)"
   ]
  },
  {
   "cell_type": "code",
   "execution_count": 29,
   "metadata": {},
   "outputs": [
    {
     "name": "stdout",
     "output_type": "stream",
     "text": [
      "В среднем игрок приобретает за одну игру: 0.26 рублей.\n",
      "Вероятность выигрыша: 20 %\n",
      "Количество успехов: 20402\n",
      "Расходы в рублях: 100000\n",
      "Выигрыш в рублях: 125989\n"
     ]
    }
   ],
   "source": [
    "game(100000)"
   ]
  },
  {
   "cell_type": "code",
   "execution_count": 30,
   "metadata": {},
   "outputs": [
    {
     "name": "stdout",
     "output_type": "stream",
     "text": [
      "В среднем игрок приобретает за одну игру: 0.16 рублей.\n",
      "Вероятность выигрыша: 20 %\n",
      "Количество успехов: 204234\n",
      "Расходы в рублях: 1000000\n",
      "Выигрыш в рублях: 1157880\n"
     ]
    }
   ],
   "source": [
    "game(1000000)"
   ]
  },
  {
   "cell_type": "markdown",
   "metadata": {},
   "source": [
    "### Выводы:\n",
    "Чем больше играют на автомате, тем меньше выигрывает игрок."
   ]
  },
  {
   "cell_type": "code",
   "execution_count": 34,
   "metadata": {},
   "outputs": [
    {
     "data": {
      "text/html": [
       "<div>\n",
       "<style scoped>\n",
       "    .dataframe tbody tr th:only-of-type {\n",
       "        vertical-align: middle;\n",
       "    }\n",
       "\n",
       "    .dataframe tbody tr th {\n",
       "        vertical-align: top;\n",
       "    }\n",
       "\n",
       "    .dataframe thead th {\n",
       "        text-align: right;\n",
       "    }\n",
       "</style>\n",
       "<table border=\"1\" class=\"dataframe\">\n",
       "  <thead>\n",
       "    <tr style=\"text-align: right;\">\n",
       "      <th></th>\n",
       "      <th>random_score</th>\n",
       "      <th>Probability</th>\n",
       "    </tr>\n",
       "  </thead>\n",
       "  <tbody>\n",
       "    <tr>\n",
       "      <th>H1</th>\n",
       "      <td>777</td>\n",
       "      <td>0.001</td>\n",
       "    </tr>\n",
       "    <tr>\n",
       "      <th>H2</th>\n",
       "      <td>999</td>\n",
       "      <td>0.001</td>\n",
       "    </tr>\n",
       "    <tr>\n",
       "      <th>H3</th>\n",
       "      <td>555</td>\n",
       "      <td>0.001</td>\n",
       "    </tr>\n",
       "    <tr>\n",
       "      <th>H4</th>\n",
       "      <td>333</td>\n",
       "      <td>0.001</td>\n",
       "    </tr>\n",
       "    <tr>\n",
       "      <th>H5</th>\n",
       "      <td>111</td>\n",
       "      <td>0.001</td>\n",
       "    </tr>\n",
       "    <tr>\n",
       "      <th>H6</th>\n",
       "      <td>*77</td>\n",
       "      <td>0.009</td>\n",
       "    </tr>\n",
       "    <tr>\n",
       "      <th>H7</th>\n",
       "      <td>**7</td>\n",
       "      <td>0.090</td>\n",
       "    </tr>\n",
       "    <tr>\n",
       "      <th>H8</th>\n",
       "      <td>*00</td>\n",
       "      <td>0.010</td>\n",
       "    </tr>\n",
       "    <tr>\n",
       "      <th>H9</th>\n",
       "      <td>**0</td>\n",
       "      <td>0.090</td>\n",
       "    </tr>\n",
       "  </tbody>\n",
       "</table>\n",
       "</div>"
      ],
      "text/plain": [
       "   random_score  Probability\n",
       "H1          777        0.001\n",
       "H2          999        0.001\n",
       "H3          555        0.001\n",
       "H4          333        0.001\n",
       "H5          111        0.001\n",
       "H6          *77        0.009\n",
       "H7          **7        0.090\n",
       "H8          *00        0.010\n",
       "H9          **0        0.090"
      ]
     },
     "execution_count": 34,
     "metadata": {},
     "output_type": "execute_result"
    }
   ],
   "source": [
    "# Теоретическая вероятность\n",
    "df = pd.DataFrame({'random_score': {'H1': 777, 'H2': 999, 'H3': 555, 'H4': 333, 'H5': 111, 'H6': '*77', 'H7': '**7', 'H8': '*00', 'H9': '**0'}, 'Probability': {'H1': 0.001, 'H2': 0.001, 'H3': 0.001, 'H4': 0.001, 'H5': 0.001, 'H6': 0.009, 'H7': 0.09, 'H8': 0.01, 'H9': 0.09}})\n",
    "df"
   ]
  },
  {
   "cell_type": "code",
   "execution_count": null,
   "metadata": {},
   "outputs": [],
   "source": [
    "# Посчитала вероятность выпадения выигрышных чисел, а дальше не понимаю, как их увязать в формулу? Какие должны быть дальнейшие действия?"
   ]
  }
 ],
 "metadata": {
  "kernelspec": {
   "display_name": "Python 3",
   "language": "python",
   "name": "python3"
  },
  "language_info": {
   "codemirror_mode": {
    "name": "ipython",
    "version": 3
   },
   "file_extension": ".py",
   "mimetype": "text/x-python",
   "name": "python",
   "nbconvert_exporter": "python",
   "pygments_lexer": "ipython3",
   "version": "3.8.5"
  }
 },
 "nbformat": 4,
 "nbformat_minor": 4
}
