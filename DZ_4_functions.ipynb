{
 "cells": [
  {
   "cell_type": "markdown",
   "metadata": {},
   "source": [
    "### Оглавление\n",
    "1. [Задание 1](#task1)\n",
    "2. [Задание 2](#task2)\n",
    "3. [Задание 3](#task3)\n",
    "4. [Задание 4](#task4)\n",
    "5. [Задание 5](#task5)"
   ]
  },
  {
   "cell_type": "code",
   "execution_count": 1,
   "metadata": {},
   "outputs": [],
   "source": [
    "#перечень всех документов\n",
    "documents = [\n",
    " {'type': 'passport', 'number': '2207 876234', 'name': 'Василий Гупкин'},\n",
    " {'type': 'invoice', 'number': '11-2', 'name': 'Геннадий Покемонов'},\n",
    " {'type': 'insurance', 'number': '10006', 'name': 'Аристарх Павлов'}\n",
    "]"
   ]
  },
  {
   "cell_type": "code",
   "execution_count": 2,
   "metadata": {},
   "outputs": [],
   "source": [
    "#перечень полок, на которых хранятся документы (если документ есть в documents, то он обязательно должен быть и в directories)\n",
    "directories = {\n",
    " '1': ['2207 876234', '11-2'],\n",
    " '2': ['10006'],\n",
    " '3': []\n",
    "}"
   ]
  },
  {
   "cell_type": "markdown",
   "metadata": {},
   "source": [
    "## Задание 1 <a id='task1'></a>\n",
    "Пользователь по команде \"p\" может узнать владельца документа по его номеру."
   ]
  },
  {
   "cell_type": "code",
   "execution_count": 3,
   "metadata": {},
   "outputs": [
    {
     "name": "stdout",
     "output_type": "stream",
     "text": [
      "Введите номер документа: 10006\n",
      "Владелец документа: Аристарх Павлов\n"
     ]
    }
   ],
   "source": [
    "def find_name():\n",
    "    found = False\n",
    "    user_input = input('Введите номер документа: ')\n",
    "    for doc in documents:\n",
    "        if doc['number'] == user_input:\n",
    "            print('Владелец документа:', doc['name'])\n",
    "            found = True\n",
    "    if not found:\n",
    "        print('Документ не найден в базе.')\n",
    "\n",
    "find_name()"
   ]
  },
  {
   "cell_type": "code",
   "execution_count": 4,
   "metadata": {},
   "outputs": [
    {
     "name": "stdout",
     "output_type": "stream",
     "text": [
      "Введите команду: p\n",
      "Введите номер документа: 10006\n",
      "Владелец документа: Аристарх Павлов\n",
      "None\n",
      "Введите команду: p\n",
      "Введите номер документа: 12345\n",
      "Документ не найден в базе.\n",
      "None\n",
      "Введите команду: q\n",
      "До свидания!\n"
     ]
    }
   ],
   "source": [
    "def main():\n",
    "    while True:\n",
    "        command_input = input('Введите команду: ')\n",
    "        if command_input == 'p':\n",
    "            print(find_name())\n",
    "        elif command_input == 'q':\n",
    "            print('До свидания!')\n",
    "            break\n",
    "\n",
    "main()"
   ]
  },
  {
   "cell_type": "markdown",
   "metadata": {},
   "source": [
    "## Задание 2 <a id='task2'></a>\n",
    "Пользователь по команде \"s\" может по номеру документа узнать на какой полке он хранится."
   ]
  },
  {
   "cell_type": "code",
   "execution_count": 5,
   "metadata": {},
   "outputs": [
    {
     "name": "stdout",
     "output_type": "stream",
     "text": [
      "Введите номер документа: 10006\n",
      "Документ хранится на полке: 2\n"
     ]
    }
   ],
   "source": [
    "def find_direct():\n",
    "    found = False\n",
    "    user_input = input('Введите номер документа: ')\n",
    "    for direct in directories.items():\n",
    "        if user_input in direct[1]:\n",
    "            print('Документ хранится на полке:', direct[0])\n",
    "            found = True\n",
    "    if not found:\n",
    "        print('Документ не найден в базе.')\n",
    "\n",
    "find_direct()"
   ]
  },
  {
   "cell_type": "code",
   "execution_count": 6,
   "metadata": {},
   "outputs": [
    {
     "name": "stdout",
     "output_type": "stream",
     "text": [
      "Введите команду: s\n",
      "Введите номер документа: 10006\n",
      "Документ хранится на полке: 2\n",
      "None\n",
      "Введите команду: s\n",
      "Введите номер документа: 12345\n",
      "Документ не найден в базе.\n",
      "None\n",
      "Введите команду: q\n",
      "До свидания!\n"
     ]
    }
   ],
   "source": [
    "def main():\n",
    "    while True:\n",
    "        command_input = input('Введите команду: ')\n",
    "        if command_input == 'p':\n",
    "            print(find_name())\n",
    "        elif command_input == 's':\n",
    "            print(find_direct())\n",
    "        elif command_input == 'q':\n",
    "            print('До свидания!')\n",
    "            break       \n",
    "\n",
    "main()"
   ]
  },
  {
   "cell_type": "markdown",
   "metadata": {},
   "source": [
    "## Задание 3 <a id='task3'></a>\n",
    "Пользователь по команде \"l\" может увидеть полную информацию по всем документам."
   ]
  },
  {
   "cell_type": "code",
   "execution_count": 7,
   "metadata": {},
   "outputs": [
    {
     "name": "stdout",
     "output_type": "stream",
     "text": [
      "№: 2207 876234 , тип: passport , владелец: Василий Гупкин , полка хранения: 1\n",
      "№: 11-2 , тип: invoice , владелец: Геннадий Покемонов , полка хранения: 1\n",
      "№: 10006 , тип: insurance , владелец: Аристарх Павлов , полка хранения: 2\n"
     ]
    }
   ],
   "source": [
    "def find_all():\n",
    "    for doc in documents:\n",
    "        direct = list(filter(lambda el: doc['number'] in el[1], directories.items()))[0]\n",
    "        doc['direct'] = direct[0]\n",
    "        doc_1 = list(doc.values())\n",
    "        print(f'№:', doc_1[1], ',', 'тип:', doc_1[0], ',', 'владелец:', doc_1[2], ',', 'полка хранения:', doc_1[3])\n",
    "                    \n",
    "find_all()"
   ]
  },
  {
   "cell_type": "code",
   "execution_count": 8,
   "metadata": {},
   "outputs": [
    {
     "name": "stdout",
     "output_type": "stream",
     "text": [
      "Введите команду: l\n",
      "№: 2207 876234 , тип: passport , владелец: Василий Гупкин , полка хранения: 1\n",
      "№: 11-2 , тип: invoice , владелец: Геннадий Покемонов , полка хранения: 1\n",
      "№: 10006 , тип: insurance , владелец: Аристарх Павлов , полка хранения: 2\n",
      "None\n",
      "Введите команду: q\n",
      "До свидания!\n"
     ]
    }
   ],
   "source": [
    "def main():\n",
    "    while True:\n",
    "        command_input = input('Введите команду: ')\n",
    "        if command_input == 'p':\n",
    "            print(find_name())\n",
    "        elif command_input == 's':\n",
    "            print(find_direct())\n",
    "        elif command_input == 'l':\n",
    "            print(find_all())\n",
    "        elif command_input == 'q':\n",
    "            print('До свидания!')\n",
    "            break       \n",
    "\n",
    "main()"
   ]
  },
  {
   "cell_type": "markdown",
   "metadata": {},
   "source": [
    "## Задание 4 <a id='task4'></a>\n",
    "Пользователь по команде \"ads\" может добавить новую полку."
   ]
  },
  {
   "cell_type": "code",
   "execution_count": 9,
   "metadata": {},
   "outputs": [
    {
     "name": "stdout",
     "output_type": "stream",
     "text": [
      "Введите номер полки:1\n",
      "Такая полка уже существует. Текущий перечень полок:1, 2, 3\n"
     ]
    }
   ],
   "source": [
    "def add_direct():\n",
    "    direct_input = input('Введите номер полки:')\n",
    "    if direct_input in directories:\n",
    "        print(f'Такая полка уже существует. Текущий перечень полок:' + ', '.join(directories.keys()))\n",
    "    else:\n",
    "        directories[direct_input] = []\n",
    "        print(f'Полка добавлена. Текущий перечень полок:' + ', '.join(directories.keys()))\n",
    "    \n",
    "add_direct()"
   ]
  },
  {
   "cell_type": "code",
   "execution_count": 10,
   "metadata": {},
   "outputs": [
    {
     "name": "stdout",
     "output_type": "stream",
     "text": [
      "Введите команду: ads\n",
      "Введите номер полки:10\n",
      "Полка добавлена. Текущий перечень полок:1, 2, 3, 10\n",
      "None\n",
      "Введите команду: q\n",
      "До свидания!\n"
     ]
    }
   ],
   "source": [
    "def main():\n",
    "    while True:\n",
    "        command_input = input('Введите команду: ')\n",
    "        if command_input == 'p':\n",
    "            print(find_name())\n",
    "        elif command_input == 's':\n",
    "            print(find_direct())\n",
    "        elif command_input == 'l':\n",
    "            print(find_all())\n",
    "        elif command_input == 'ads':\n",
    "            print(add_direct())\n",
    "        elif command_input == 'q':\n",
    "            print('До свидания!')\n",
    "            break       \n",
    "\n",
    "main()"
   ]
  },
  {
   "cell_type": "markdown",
   "metadata": {},
   "source": [
    "## Задание 5 <a id='task5'></a>\n",
    "Пользователь по команде \"ds\" может удалить существующую полку из данных (только если она пустая)"
   ]
  },
  {
   "cell_type": "code",
   "execution_count": 12,
   "metadata": {},
   "outputs": [
    {
     "name": "stdout",
     "output_type": "stream",
     "text": [
      "Введите номер полки:3\n",
      "Полка удалена. Текущий перечень полок:1, 2, 10\n"
     ]
    }
   ],
   "source": [
    "def del_direct():\n",
    "    direct_input = input('Введите номер полки:')\n",
    "    if direct_input in directories:\n",
    "        if len(directories[direct_input]) > 0:\n",
    "            print('На полке есть документы, удалите их перед удалением полки. Текущий перечень полок:' + ', '.join(directories.keys()))\n",
    "        else:\n",
    "            del directories[direct_input]\n",
    "            print('Полка удалена. Текущий перечень полок:' + ', '.join(directories.keys()))\n",
    "    else:\n",
    "        print ('Такой полки не существует. Текущий перечень полок:' + ', '.join(directories.keys()))\n",
    "     \n",
    "del_direct()"
   ]
  },
  {
   "cell_type": "code",
   "execution_count": 13,
   "metadata": {},
   "outputs": [
    {
     "name": "stdout",
     "output_type": "stream",
     "text": [
      "Введите команду: ds\n",
      "Введите номер полки:1\n",
      "На полке есть документы, удалите их перед удалением полки. Текущий перечень полок:1, 2, 10\n",
      "None\n",
      "Введите команду: ds\n",
      "Введите номер полки:4\n",
      "Такой полки не существует. Текущий перечень полок:1, 2, 10\n",
      "None\n",
      "Введите команду: q\n",
      "До свидания!\n"
     ]
    }
   ],
   "source": [
    "def main():\n",
    "    while True:\n",
    "        command_input = input('Введите команду: ')\n",
    "        if command_input == 'p':\n",
    "            print(find_name())\n",
    "        elif command_input == 's':\n",
    "            print(find_direct())\n",
    "        elif command_input == 'l':\n",
    "            print(find_all())\n",
    "        elif command_input == 'ads':\n",
    "            print(add_direct())\n",
    "        elif command_input == 'ds':\n",
    "            print(del_direct())\n",
    "        elif command_input == 'q':\n",
    "            print('До свидания!')\n",
    "            break       \n",
    "\n",
    "main()"
   ]
  }
 ],
 "metadata": {
  "kernelspec": {
   "display_name": "Python 3",
   "language": "python",
   "name": "python3"
  },
  "language_info": {
   "codemirror_mode": {
    "name": "ipython",
    "version": 3
   },
   "file_extension": ".py",
   "mimetype": "text/x-python",
   "name": "python",
   "nbconvert_exporter": "python",
   "pygments_lexer": "ipython3",
   "version": "3.8.5"
  }
 },
 "nbformat": 4,
 "nbformat_minor": 4
}
