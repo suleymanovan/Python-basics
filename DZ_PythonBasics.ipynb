{
 "cells": [
  {
   "cell_type": "markdown",
   "metadata": {},
   "source": [
    "## Задание 1\n",
    "Даны 2 переменных, в которых хранятся строки произвольной длины: phrase_1 и phrase_2.\n",
    "Напишите код, который проверяет какая из этих строк длиннее."
   ]
  },
  {
   "cell_type": "code",
   "execution_count": 1,
   "metadata": {},
   "outputs": [],
   "source": [
    "phrase_1 = 'Насколько проще было бы писать программы, если бы не заказчики'\n",
    "phrase_2 = '640Кб должно хватить для любых задач. Билл Гейтс (по легенде)'"
   ]
  },
  {
   "cell_type": "code",
   "execution_count": 2,
   "metadata": {},
   "outputs": [
    {
     "name": "stdout",
     "output_type": "stream",
     "text": [
      "Результат: Фраза 1 длиннее фразы 2\n"
     ]
    }
   ],
   "source": [
    "if len(phrase_1) > len(phrase_2):\n",
    "    print ('Результат: Фраза 1 длиннее фразы 2')"
   ]
  },
  {
   "cell_type": "code",
   "execution_count": 3,
   "metadata": {},
   "outputs": [],
   "source": [
    "phrase_1 = '640Кб должно хватить для любых задач. Билл Гейтс (по легенде)'\n",
    "phrase_2 = 'Насколько проще было бы писать программы, если бы не заказчики'"
   ]
  },
  {
   "cell_type": "code",
   "execution_count": 4,
   "metadata": {},
   "outputs": [
    {
     "name": "stdout",
     "output_type": "stream",
     "text": [
      "Результат: Фраза 2 длиннее фразы 1\n"
     ]
    }
   ],
   "source": [
    "if len(phrase_1) > len(phrase_2):\n",
    "    print ('Результат: Фраза 1 длиннее фразы 2')\n",
    "else:\n",
    "    print ('Результат: Фраза 2 длиннее фразы 1')   "
   ]
  },
  {
   "cell_type": "code",
   "execution_count": 5,
   "metadata": {},
   "outputs": [],
   "source": [
    "phrase_1 = 'Насколько проще было бы писать программы, если бы не заказчики'\n",
    "phrase_2 = 'Насколько проще было бы писать программы, если бы не заказчики'"
   ]
  },
  {
   "cell_type": "code",
   "execution_count": 6,
   "metadata": {},
   "outputs": [
    {
     "name": "stdout",
     "output_type": "stream",
     "text": [
      "Результат: Фразы равной длины\n"
     ]
    }
   ],
   "source": [
    "if len(phrase_1) == len(phrase_2):\n",
    "    print ('Результат: Фразы равной длины')"
   ]
  },
  {
   "cell_type": "markdown",
   "metadata": {},
   "source": [
    "## Задание 2\n",
    "Дана переменная, в которой хранится четырехзначное число (год). Необходимо написать программу, которая выведет, является ли данный год високосным или обычным."
   ]
  },
  {
   "cell_type": "code",
   "execution_count": 7,
   "metadata": {},
   "outputs": [],
   "source": [
    "year = 2020"
   ]
  },
  {
   "cell_type": "code",
   "execution_count": 8,
   "metadata": {},
   "outputs": [
    {
     "name": "stdout",
     "output_type": "stream",
     "text": [
      "Результат: Високосный год\n"
     ]
    }
   ],
   "source": [
    "if year % 4 == 0:\n",
    "    print ('Результат: Високосный год')"
   ]
  },
  {
   "cell_type": "code",
   "execution_count": 9,
   "metadata": {},
   "outputs": [],
   "source": [
    "year = 2019"
   ]
  },
  {
   "cell_type": "code",
   "execution_count": 10,
   "metadata": {},
   "outputs": [
    {
     "name": "stdout",
     "output_type": "stream",
     "text": [
      "Результат: Обычный год\n"
     ]
    }
   ],
   "source": [
    "if year % 4 == 0:\n",
    "    print ('Результат: Високосный год')\n",
    "else:\n",
    "    print ('Результат: Обычный год')"
   ]
  },
  {
   "cell_type": "markdown",
   "metadata": {},
   "source": [
    "## Задание 3\n",
    "Необходимо написать программу, которая будет запрашивать у пользователя месяц и дату рождения и выводить соответствующий знак зодиака."
   ]
  },
  {
   "cell_type": "code",
   "execution_count": 19,
   "metadata": {},
   "outputs": [
    {
     "name": "stdout",
     "output_type": "stream",
     "text": [
      "Введите день: 30\n",
      "Введите месяц: август\n",
      "Ваш знак зодиака: Дева\n"
     ]
    }
   ],
   "source": [
    "day_input = int(input('Введите день: '))\n",
    "month_input = input('Введите месяц: ')\n",
    "if day_input > 20 and month_input == 'март' or day_input < 21 and month_input == 'апрель':\n",
    "    print ('Ваш знак зодиака: Овен')\n",
    "elif day_input > 20 and month_input == 'апрель' or day_input < 22 and month_input == 'май':\n",
    "    print ('Ваш знак зодиака: Телец')\n",
    "elif day_input > 21 and month_input == 'май' or day_input < 22 and month_input == 'июнь':\n",
    "    print ('Ваш знак зодиака: Близнецы')\n",
    "elif day_input > 21 and month_input == 'июнь' or day_input < 23 and month_input == 'июль':\n",
    "    print ('Ваш знак зодиака: Рак')\n",
    "elif day_input > 22 and month_input == 'июль' or day_input < 22 and month_input == 'август':\n",
    "    print ('Ваш знак зодиака: Лев')\n",
    "elif day_input > 21 and month_input == 'август' or day_input < 24 and month_input == 'сентябрь':\n",
    "    print ('Ваш знак зодиака: Дева')\n",
    "elif day_input > 23 and month_input == 'сентябрь' or day_input < 24 and month_input == 'октябрь':\n",
    "    print ('Ваш знак зодиака: Весы')\n",
    "elif day_input > 23 and month_input == 'октябрь' or day_input < 24 and month_input == 'ноябрь':\n",
    "    print ('Ваш знак зодиака: Скорпион')\n",
    "elif day_input > 23 and month_input == 'ноябрь' or day_input < 23 and month_input == 'декабрь':\n",
    "    print ('Ваш знак зодиака: Стрелец')\n",
    "elif day_input > 22 and month_input == 'декабрь' or day_input < 21 and month_input == 'январь':\n",
    "    print ('Ваш знак зодиака: Козерог')\n",
    "elif day_input > 20 and month_input == 'январь' or day_input < 22 and month_input == 'февраль':\n",
    "    print ('Ваш знак зодиака: Водолей')\n",
    "else:\n",
    "    print ('Рыбы')"
   ]
  },
  {
   "cell_type": "code",
   "execution_count": 20,
   "metadata": {},
   "outputs": [
    {
     "name": "stdout",
     "output_type": "stream",
     "text": [
      "Введите день: 29\n",
      "Введите месяц: октябрь\n",
      "Ваш знак зодиака: Скорпион\n"
     ]
    }
   ],
   "source": [
    "day_input = int(input('Введите день: '))\n",
    "month_input = input('Введите месяц: ')\n",
    "if day_input > 20 and month_input == 'март' or day_input < 21 and month_input == 'апрель':\n",
    "    print ('Ваш знак зодиака: Овен')\n",
    "elif day_input > 20 and month_input == 'апрель' or day_input < 22 and month_input == 'май':\n",
    "    print ('Ваш знак зодиака: Телец')\n",
    "elif day_input > 21 and month_input == 'май' or day_input < 22 and month_input == 'июнь':\n",
    "    print ('Ваш знак зодиака: Близнецы')\n",
    "elif day_input > 21 and month_input == 'июнь' or day_input < 23 and month_input == 'июль':\n",
    "    print ('Ваш знак зодиака: Рак')\n",
    "elif day_input > 22 and month_input == 'июль' or day_input < 22 and month_input == 'август':\n",
    "    print ('Ваш знак зодиака: Лев')\n",
    "elif day_input > 21 and month_input == 'август' or day_input < 24 and month_input == 'сентябрь':\n",
    "    print ('Ваш знак зодиака: Дева')\n",
    "elif day_input > 23 and month_input == 'сентябрь' or day_input < 24 and month_input == 'октябрь':\n",
    "    print ('Ваш знак зодиака: Весы')\n",
    "elif day_input > 23 and month_input == 'октябрь' or day_input < 24 and month_input == 'ноябрь':\n",
    "    print ('Ваш знак зодиака: Скорпион')\n",
    "elif day_input > 23 and month_input == 'ноябрь' or day_input < 23 and month_input == 'декабрь':\n",
    "    print ('Ваш знак зодиака: Стрелец')\n",
    "elif day_input > 22 and month_input == 'декабрь' or day_input < 21 and month_input == 'январь':\n",
    "    print ('Ваш знак зодиака: Козерог')\n",
    "elif day_input > 20 and month_input == 'январь' or day_input < 22 and month_input == 'февраль':\n",
    "    print ('Ваш знак зодиака: Водолей')\n",
    "else:\n",
    "    print ('Рыбы')"
   ]
  },
  {
   "cell_type": "markdown",
   "metadata": {},
   "source": [
    "## Задание 4\n",
    "Вам нужно написать программу для подбора упаковок по размерам товара. Размеры (ширина, длина, высота) хранятся в переменных (в сантиметрах):\n",
    "Используйте следующие правила:\n",
    "* если каждое из трех измерений менее 15 сантиметров, то выведите на экран \"Коробка №1\";\n",
    "* если хотя бы одно из измерений больше 15 сантиметров, но менее 50 сантиметров, то выводите \"Коробка №2\";\n",
    "* если длина товара больше 2 метров, то выводите \"Упаковка для лыж\";\n",
    "* во всех остальных случаях выводите \"Стандартная коробка №3\"."
   ]
  },
  {
   "cell_type": "code",
   "execution_count": 30,
   "metadata": {},
   "outputs": [],
   "source": [
    "width = 15\n",
    "length = 50\n",
    "height = 15"
   ]
  },
  {
   "cell_type": "code",
   "execution_count": 31,
   "metadata": {},
   "outputs": [
    {
     "name": "stdout",
     "output_type": "stream",
     "text": [
      "Стандартная коробка №3\n"
     ]
    }
   ],
   "source": [
    "if length > 200:\n",
    "    print ('Упаковка для лыж')\n",
    "elif width < 15 and length < 15 and height < 15:\n",
    "    print ('Коробка №1')\n",
    "elif 15 < width < 50 or 15 < length < 50 or 15 < height < 50:\n",
    "    print ('Коробка №2')\n",
    "else:\n",
    "    print ('Стандартная коробка №3')"
   ]
  },
  {
   "cell_type": "code",
   "execution_count": 32,
   "metadata": {},
   "outputs": [],
   "source": [
    "width = 45\n",
    "length = 205\n",
    "height = 45"
   ]
  },
  {
   "cell_type": "code",
   "execution_count": 33,
   "metadata": {},
   "outputs": [
    {
     "name": "stdout",
     "output_type": "stream",
     "text": [
      "Упаковка для лыж\n"
     ]
    }
   ],
   "source": [
    "if length > 200:\n",
    "    print ('Упаковка для лыж')\n",
    "elif width < 15 and length < 15 and height < 15:\n",
    "    print ('Коробка №1')\n",
    "elif 15 < width < 50 or 15 < length < 50 or 15 < height < 50:\n",
    "    print ('Коробка №2')\n",
    "else:\n",
    "    print ('Стандартная коробка №3')"
   ]
  },
  {
   "cell_type": "markdown",
   "metadata": {},
   "source": [
    "## Задание 5\n",
    "Дана переменная, в которой хранится шестизначное число (номер проездного билета). Напишите программу, которая будет определять, является ли данный билет \"счастливым\". Билет считается счастливым, если сумма первых трех цифр совпадает с суммой последних трех цифр номера.\n"
   ]
  },
  {
   "cell_type": "code",
   "execution_count": 47,
   "metadata": {},
   "outputs": [],
   "source": [
    "number = 123456"
   ]
  },
  {
   "cell_type": "code",
   "execution_count": 48,
   "metadata": {},
   "outputs": [],
   "source": [
    "num = list('123456')\n",
    "sum_1 = int(num[0]) + int(num[1]) + int(num[2]) #cумма первых трех\n",
    "sum_2 = int(num[3]) + int(num[4]) + int(num[5]) #cумма последних трех"
   ]
  },
  {
   "cell_type": "code",
   "execution_count": 49,
   "metadata": {},
   "outputs": [
    {
     "name": "stdout",
     "output_type": "stream",
     "text": [
      "Несчастливый билет\n"
     ]
    }
   ],
   "source": [
    "if sum_1 == sum_2:\n",
    "    print ('Счастливый билет')\n",
    "else:\n",
    "    print ('Несчастливый билет')"
   ]
  },
  {
   "cell_type": "code",
   "execution_count": 50,
   "metadata": {},
   "outputs": [],
   "source": [
    "number = 123321"
   ]
  },
  {
   "cell_type": "code",
   "execution_count": 54,
   "metadata": {},
   "outputs": [],
   "source": [
    "num = list('123321')\n",
    "sum_1 = int(num[0]) + int(num[1]) + int(num[2]) \n",
    "sum_2 = int(num[3]) + int(num[4]) + int(num[5]) "
   ]
  },
  {
   "cell_type": "code",
   "execution_count": 55,
   "metadata": {},
   "outputs": [
    {
     "name": "stdout",
     "output_type": "stream",
     "text": [
      "Счастливый билет\n"
     ]
    }
   ],
   "source": [
    "if sum_1 == sum_2:\n",
    "    print ('Счастливый билет')\n",
    "else:\n",
    "    print ('Несчастливый билет')"
   ]
  },
  {
   "cell_type": "markdown",
   "metadata": {},
   "source": [
    "## Задание 6\n",
    "Напишите программу, которая сможет вычислять площади трех фигур (круг, треугольник и прямоугольник). Тип фигуры запрашиваем через пользовательский ввод, после чего делаем запрос характеристик фигуры:\n",
    "* если пользователь выбрал круг, запрашиваем его радиус,\n",
    "* если треугольник – длины трех его сторон;\n",
    "* если прямоугольник – длины двух его сторон."
   ]
  },
  {
   "cell_type": "code",
   "execution_count": 2,
   "metadata": {},
   "outputs": [],
   "source": [
    "import math\n",
    "from math import sqrt\n",
    "from math import pi"
   ]
  },
  {
   "cell_type": "code",
   "execution_count": 3,
   "metadata": {},
   "outputs": [
    {
     "name": "stdout",
     "output_type": "stream",
     "text": [
      "Введите тип фигуры: круг\n"
     ]
    }
   ],
   "source": [
    "shape_input = input('Введите тип фигуры: ')"
   ]
  },
  {
   "cell_type": "code",
   "execution_count": 4,
   "metadata": {},
   "outputs": [
    {
     "name": "stdout",
     "output_type": "stream",
     "text": [
      "Введите радиус круга: 10\n"
     ]
    }
   ],
   "source": [
    "if shape_input == 'круг':\n",
    "    rad_input = int(input('Введите радиус круга: '))\n",
    "elif shape_input == 'треугольник':\n",
    "    a = int(input('Введите длину стороны A:'))\n",
    "    b = int(input('Введите длину стороны B:'))\n",
    "    c = int(input('Введите длину стороны C:'))\n",
    "    p = (a + b + c) / 2  # полупериметр\n",
    "elif shape_input == 'прямоугольник':\n",
    "    a = int(input('Введите длину стороны A:'))\n",
    "    b = int(input('Введите длину стороны B:'))"
   ]
  },
  {
   "cell_type": "code",
   "execution_count": 5,
   "metadata": {},
   "outputs": [
    {
     "name": "stdout",
     "output_type": "stream",
     "text": [
      "Площадь круга: 314.1592653589793\n"
     ]
    }
   ],
   "source": [
    "if shape_input == 'круг':\n",
    "    print ('Площадь круга:', math.pi * (rad_input ** 2)) \n",
    "elif shape_input == 'треугольник':\n",
    "    print ('Площадь треугольника:', sqrt(p * (p - a) * (p - b) * (p - c)))\n",
    "elif shape_input == 'прямоугольник': \n",
    "    print ('Площадь прямоугольника:', a * b)"
   ]
  },
  {
   "cell_type": "code",
   "execution_count": 6,
   "metadata": {},
   "outputs": [
    {
     "name": "stdout",
     "output_type": "stream",
     "text": [
      "Введите тип фигуры: треугольник\n"
     ]
    }
   ],
   "source": [
    "shape_input = input('Введите тип фигуры: ')"
   ]
  },
  {
   "cell_type": "code",
   "execution_count": 7,
   "metadata": {},
   "outputs": [
    {
     "name": "stdout",
     "output_type": "stream",
     "text": [
      "Введите длину стороны A:2\n",
      "Введите длину стороны B:2\n",
      "Введите длину стороны C:3\n"
     ]
    }
   ],
   "source": [
    "if shape_input == 'круг':\n",
    "    rad_input = int(input('Введите радиус круга: '))\n",
    "elif shape_input == 'треугольник':\n",
    "    a = int(input('Введите длину стороны A:'))\n",
    "    b = int(input('Введите длину стороны B:'))\n",
    "    c = int(input('Введите длину стороны C:'))\n",
    "    p = (a + b + c) / 2  # полупериметр\n",
    "elif shape_input == 'прямоугольник':\n",
    "    a = int(input('Введите длину стороны A:'))\n",
    "    b = int(input('Введите длину стороны B:'))"
   ]
  },
  {
   "cell_type": "code",
   "execution_count": 8,
   "metadata": {},
   "outputs": [
    {
     "name": "stdout",
     "output_type": "stream",
     "text": [
      "Площадь треугольника: 1.984313483298443\n"
     ]
    }
   ],
   "source": [
    "if shape_input == 'круг':\n",
    "    print ('Площадь круга:', math.pi * (rad_input ** 2)) \n",
    "elif shape_input == 'треугольник':\n",
    "    print ('Площадь треугольника:', sqrt(p * (p - a) * (p - b) * (p - c)))\n",
    "elif shape_input == 'прямоугольник': \n",
    "    print ('Площадь прямоугольника:', a * b)"
   ]
  }
 ],
 "metadata": {
  "kernelspec": {
   "display_name": "Python 3",
   "language": "python",
   "name": "python3"
  },
  "language_info": {
   "codemirror_mode": {
    "name": "ipython",
    "version": 3
   },
   "file_extension": ".py",
   "mimetype": "text/x-python",
   "name": "python",
   "nbconvert_exporter": "python",
   "pygments_lexer": "ipython3",
   "version": "3.8.5"
  }
 },
 "nbformat": 4,
 "nbformat_minor": 4
}
